{
 "cells": [
  {
   "cell_type": "code",
   "execution_count": 1,
   "metadata": {},
   "outputs": [],
   "source": [
    "%matplotlib inline\n",
    "from PIL import Image\n",
    "import matplotlib.pyplot as plt\n",
    "import numpy as np\n",
    "\n",
    "import torch\n",
    "import torch.optim as optim\n",
    "from torchvision import transforms,models\n",
    "import time"
   ]
  },
  {
   "cell_type": "code",
   "execution_count": 2,
   "metadata": {},
   "outputs": [
    {
     "name": "stdout",
     "output_type": "stream",
     "text": [
      "cuda\n"
     ]
    }
   ],
   "source": [
    "vggList = [models.vgg11(pretrained=True).features,models.vgg13(pretrained=True).features,models.vgg16(pretrained=True).features,models.vgg19(pretrained=True).features]\n",
    "devices=torch.device(\"cuda\" if torch.cuda.is_available() else \"cpu\")\n",
    "print(devices)\n",
    "\n",
    "for vgg in vggList:\n",
    "    \n",
    "    for param in vgg.parameters():\n",
    "        param.requires_grad_(False)\n",
    "        \n",
    "    vgg.to(devices)\n"
   ]
  },
  {
   "cell_type": "code",
   "execution_count": 3,
   "metadata": {},
   "outputs": [],
   "source": [
    "def load_image(img_path,max_size=400,shape=None):\n",
    "    image=Image.open(img_path).convert('RGB')\n",
    "    if max(image.size) > max_size:\n",
    "        size=max_size\n",
    "    else:\n",
    "        size=max(image.size)\n",
    "    if shape is not None:\n",
    "        size=shape\n",
    "    \n",
    "    in_transform=transforms.Compose([transforms.Resize(size),transforms.ToTensor(),transforms.Normalize((0.485,0.456,0.406),(0.229,0.224,0.225))])\n",
    "    \n",
    "    image = in_transform(image)[:3,:,:].unsqueeze(0)\n",
    "    return image\n",
    "\n",
    "path = \"images/\"\n",
    "contentListName = ['space_needle.jpg','space_needle.jpg','space_needle.jpg']\n",
    "contentList = list()\n",
    "styleListName = ['space_needle.jpg','space_needle.jpg','space_needle.jpg']\n",
    "styleList = list()\n",
    "\n",
    "for name in contentListName:\n",
    "    \n",
    "    contentList.append(load_image(path + name).to(devices))\n",
    "    \n",
    "for name in styleListName:\n",
    "    \n",
    "    styleList.append(load_image(path + name).to(devices))\n",
    "    #styleList.append(load_image(path + name,shape=content.shape[-2:]).to(devices))\n"
   ]
  },
  {
   "cell_type": "code",
   "execution_count": 4,
   "metadata": {},
   "outputs": [],
   "source": [
    "def style_loss(Y_hat, gram_Y):\n",
    "    return np.square(gram(Y_hat) - gram_Y).mean()\n",
    "\n",
    "def content_loss(Y_hat, Y):\n",
    "    return np.square(Y_hat - Y).mean()\n",
    "\n",
    "def gram_matrix(tensor):\n",
    "    _,d,h,w=tensor.size()\n",
    "    tensor=tensor.view(d,h*w)\n",
    "    gram=torch.mm(tensor,tensor.t())\n",
    "    return gram\n",
    "\n",
    "def compute_loss(X, contents_Y_hat, styles_Y_hat, contents_Y, styles_Y_gram):\n",
    "    # Calculate the content, style, and total variance losses respectively\n",
    "    contents_l = [content_loss(Y_hat, Y) * content_weight for Y_hat, Y in zip(\n",
    "        contents_Y_hat, contents_Y)]\n",
    "    styles_l = [style_loss(Y_hat, Y) * style_weight for Y_hat, Y in zip(\n",
    "        styles_Y_hat, styles_Y_gram)]\n",
    "    tv_l = tv_loss(X) * tv_weight\n",
    "    # Add up all the losses\n",
    "    l = sum(styles_l + contents_l + [tv_l])\n",
    "    return contents_l, styles_l, tv_l, l\n",
    "\n",
    "def showDiffrenses(content,target):\n",
    "    fig, (ax1, ax2) = plt.subplots(1, 2, figsize=(20, 10))\n",
    "    ax1.imshow(im_convert(content))\n",
    "    ax2.imshow(im_convert(target))\n"
   ]
  },
  {
   "cell_type": "code",
   "execution_count": null,
   "metadata": {},
   "outputs": [],
   "source": [
    "\n",
    "content_features = list()\n",
    "content_features.append(get_features(content,vgg))\n",
    "\n",
    "style_features=get_features(style,vgg)\n",
    "\n",
    "style_grams={layer: gram_matrix(style_features[layer]) for layer in style_features}\n",
    "\n",
    "\n",
    "target=content.clone().requires_grad_(True).to(devices)\n",
    "\n",
    "style_weights=\n",
    "\n",
    "style_weightsList = list()\n",
    "\n",
    "style_weightsList.append()\n",
    "style_weightsList.append()\n",
    "style_weightsList.append()\n",
    "style_weightsList.append({'conv1_1':1.,\n",
    "               'conv2_1':0.8,\n",
    "               'conv3_1':0.5,\n",
    "               'conv4_1':0.3,\n",
    "               'conv5_1':0.1,\n",
    "               'conv6_1':0.1})\n",
    "target_weightsList = list()\n",
    "\n",
    "target_weightsList.append({'conv2_2':1})\n",
    "target_weightsList.append({'conv3_2':1})\n",
    "target_weightsList.append({'conv4_2':1})\n",
    "target_weightsList.append({'conv5_2':1})\n",
    "\n",
    "content_weight=1\n",
    "style_weight=1e6"
   ]
  },
  {
   "cell_type": "code",
   "execution_count": 8,
   "metadata": {},
   "outputs": [],
   "source": [
    "def create(vgg,target,convLayerKey,styleWeights,contentFeatures,steps=2000,showEvery=400,showTime=True,showLoss=True):\n",
    "    \n",
    "    if(show_time):\n",
    "        start = time.time()\n",
    "    \n",
    "    optimizer=optim.Adam([target],lr=0.003)\n",
    "    \n",
    "    for ii in range(1,steps+1):\n",
    "        targetFeatures = get_features(target,vgg)\n",
    "        contentLoss = torch.mean((targetFeatures[convLayerKey] - contentFeatures[convLayerKey])**2)\n",
    "\n",
    "        style_loss = 0\n",
    "        for layer in styleWeights:\n",
    "            targetFeature = targetFeatures[layer]\n",
    "            targetGram = gram_matrix(targetFeature)\n",
    "            _,d,h,w = target_feature.shape\n",
    "            style_gram = style_grams[layer]\n",
    "            layerStyleLoss = styleWeights[layer] * torch.mean((targetGram-style_gram)**2)\n",
    "            style_loss += layerStyleLoss/(d*h*w)\n",
    "\n",
    "        total_loss=content_weight*contentLoss+style_weight*style_loss\n",
    "\n",
    "        optimizer.zero_grad()\n",
    "        total_loss.backward()\n",
    "        optimizer.step()\n",
    "        if ii% show_every==0:\n",
    "            if (showLoss):\n",
    "                print('Content loss:',contentLoss)\n",
    "                print('Style loss:',style_loss)\n",
    "                print('Total loss:',total_loss.item())\n",
    "            plt.imshow(im_convert(target))\n",
    "            plt.show()\n",
    "            if(show_time):\n",
    "                print('Time:',time.time() - start)\n",
    "                \n",
    "    if(show_time):            \n",
    "        print(time.time() - start)\n",
    "        \n",
    "    return target"
   ]
  },
  {
   "cell_type": "markdown",
   "metadata": {},
   "source": [
    "# vgg11"
   ]
  },
  {
   "cell_type": "code",
   "execution_count": null,
   "metadata": {},
   "outputs": [],
   "source": []
  },
  {
   "cell_type": "code",
   "execution_count": null,
   "metadata": {},
   "outputs": [],
   "source": [
    " target = create(vgg(0),)"
   ]
  },
  {
   "cell_type": "markdown",
   "metadata": {},
   "source": [
    "# vgg13"
   ]
  },
  {
   "cell_type": "code",
   "execution_count": null,
   "metadata": {},
   "outputs": [],
   "source": []
  },
  {
   "cell_type": "markdown",
   "metadata": {},
   "source": [
    "# vgg16"
   ]
  },
  {
   "cell_type": "code",
   "execution_count": null,
   "metadata": {},
   "outputs": [],
   "source": []
  },
  {
   "cell_type": "markdown",
   "metadata": {},
   "source": [
    "# vgg19"
   ]
  },
  {
   "cell_type": "code",
   "execution_count": null,
   "metadata": {},
   "outputs": [],
   "source": []
  }
 ],
 "metadata": {
  "kernelspec": {
   "display_name": "Python 3",
   "language": "python",
   "name": "python3"
  },
  "language_info": {
   "codemirror_mode": {
    "name": "ipython",
    "version": 3
   },
   "file_extension": ".py",
   "mimetype": "text/x-python",
   "name": "python",
   "nbconvert_exporter": "python",
   "pygments_lexer": "ipython3",
   "version": "3.7.4"
  }
 },
 "nbformat": 4,
 "nbformat_minor": 2
}
