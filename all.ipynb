{
 "cells": [
  {
   "cell_type": "code",
   "execution_count": 3,
   "metadata": {},
   "outputs": [],
   "source": [
    "%matplotlib inline\n",
    "from PIL import Image\n",
    "import matplotlib.pyplot as plt\n",
    "import numpy as np\n",
    "\n",
    "import torch\n",
    "import torch.optim as optim\n",
    "from torchvision import transforms,models\n",
    "import time"
   ]
  },
  {
   "cell_type": "code",
   "execution_count": 9,
   "metadata": {},
   "outputs": [
    {
     "name": "stdout",
     "output_type": "stream",
     "text": [
      "cuda\n",
      "cuda\n",
      "cuda\n",
      "cuda\n"
     ]
    }
   ],
   "source": [
    "\n",
    "vggList = [models.vgg11(pretrained=True).features,models.vgg13(pretrained=True).features,models.vgg16(pretrained=True).features,models.vgg19(pretrained=True).features]\n",
    "\n",
    "for vgg in vggList:\n",
    "    \n",
    "    for param in vgg.parameters():\n",
    "        param.requires_grad_(False)\n",
    "    \n",
    "    devices=torch.device(\"cuda\" if torch.cuda.is_available() else \"cpu\")\n",
    "\n",
    "    vgg.to(devices)\n",
    "    print(devices)\n"
   ]
  },
  {
   "cell_type": "code",
   "execution_count": null,
   "metadata": {},
   "outputs": [],
   "source": [
    "def style_loss(Y_hat, gram_Y):\n",
    "    return np.square(gram(Y_hat) - gram_Y).mean()\n",
    "\n",
    "def content_loss(Y_hat, Y):\n",
    "    return np.square(Y_hat - Y).mean()\n",
    "\n",
    "def gram(X):\n",
    "    num_channels, n = X.shape[1], X.size // X.shape[1]\n",
    "    X = X.reshape(num_channels, n)\n",
    "    return np.dot(X, X.T) / (num_channels * n)\n",
    "\n",
    "def compute_loss(X, contents_Y_hat, styles_Y_hat, contents_Y, styles_Y_gram):\n",
    "    # Calculate the content, style, and total variance losses respectively\n",
    "    contents_l = [content_loss(Y_hat, Y) * content_weight for Y_hat, Y in zip(\n",
    "        contents_Y_hat, contents_Y)]\n",
    "    styles_l = [style_loss(Y_hat, Y) * style_weight for Y_hat, Y in zip(\n",
    "        styles_Y_hat, styles_Y_gram)]\n",
    "    tv_l = tv_loss(X) * tv_weight\n",
    "    # Add up all the losses\n",
    "    l = sum(styles_l + contents_l + [tv_l])\n",
    "    return contents_l, styles_l, tv_l, l"
   ]
  },
  {
   "cell_type": "code",
   "execution_count": null,
   "metadata": {},
   "outputs": [],
   "source": [
    "def a():\n",
    "    \n",
    "    start = time.time()\n",
    "    show_every=400\n",
    "\n",
    "    optimizer=optim.Adam([target],lr=0.003)\n",
    "    steps=2000\n",
    "\n",
    "    for ii in range(1,steps+1):\n",
    "        target_features=get_features(target,vgg)\n",
    "        content_loss=torch.mean((target_features['conv2_2']-content_features['conv2_2'])**2)\n",
    "\n",
    "        style_loss=0\n",
    "        for layer in style_weights:\n",
    "            target_feature=target_features[layer]\n",
    "            #print(target_feature)\n",
    "            target_gram=gram_matrix(target_feature)\n",
    "            _,d,h,w=target_feature.shape\n",
    "            style_gram=style_grams[layer]\n",
    "            layer_style_loss=style_weights[layer]*torch.mean((target_gram-style_gram)**2)\n",
    "            style_loss+=layer_style_loss/(d*h*w)\n",
    "\n",
    "        total_loss=content_weight*content_loss+style_weight*style_loss\n",
    "\n",
    "        optimizer.zero_grad()\n",
    "        total_loss.backward()\n",
    "        optimizer.step()\n",
    "        if ii% show_every==0:\n",
    "            print('Total loss:',total_loss.item())\n",
    "            plt.imshow(im_convert(target))\n",
    "            plt.show()\n",
    "            print('Time:',time.time() - start)\n",
    "    print(time.time() - start)"
   ]
  },
  {
   "cell_type": "markdown",
   "metadata": {},
   "source": [
    "# vgg11"
   ]
  },
  {
   "cell_type": "code",
   "execution_count": null,
   "metadata": {},
   "outputs": [],
   "source": []
  },
  {
   "cell_type": "markdown",
   "metadata": {},
   "source": [
    "# vgg13"
   ]
  },
  {
   "cell_type": "code",
   "execution_count": null,
   "metadata": {},
   "outputs": [],
   "source": []
  },
  {
   "cell_type": "markdown",
   "metadata": {},
   "source": [
    "# vgg16"
   ]
  },
  {
   "cell_type": "code",
   "execution_count": null,
   "metadata": {},
   "outputs": [],
   "source": []
  },
  {
   "cell_type": "markdown",
   "metadata": {},
   "source": [
    "# vgg19"
   ]
  },
  {
   "cell_type": "code",
   "execution_count": null,
   "metadata": {},
   "outputs": [],
   "source": []
  }
 ],
 "metadata": {
  "kernelspec": {
   "display_name": "Python 3",
   "language": "python",
   "name": "python3"
  },
  "language_info": {
   "codemirror_mode": {
    "name": "ipython",
    "version": 3
   },
   "file_extension": ".py",
   "mimetype": "text/x-python",
   "name": "python",
   "nbconvert_exporter": "python",
   "pygments_lexer": "ipython3",
   "version": "3.7.4"
  }
 },
 "nbformat": 4,
 "nbformat_minor": 2
}
